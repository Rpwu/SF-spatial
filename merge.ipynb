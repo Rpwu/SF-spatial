{
 "cells": [
  {
   "cell_type": "code",
   "execution_count": 1,
   "metadata": {},
   "outputs": [],
   "source": [
    "import pandas as pd"
   ]
  },
  {
   "cell_type": "code",
   "execution_count": 2,
   "metadata": {},
   "outputs": [],
   "source": [
    "regions = pd.read_csv(\"data/sf_neighbourhoods.csv\")\n",
    "cases = pd.read_csv(\"data/sf_encampment_reports_mar2023_mar2024.csv\")"
   ]
  },
  {
   "cell_type": "code",
   "execution_count": 8,
   "metadata": {},
   "outputs": [],
   "source": [
    "cases['Status Notes'] = cases['Status Notes'].str.lower()\n",
    "mask = cases['Status Notes'].astype(str).str.contains('case is a duplicate', na=False)\n",
    "cases_filtered = cases[~mask]"
   ]
  },
  {
   "cell_type": "code",
   "execution_count": 18,
   "metadata": {},
   "outputs": [],
   "source": [
    "columns_to_keep = ['CaseID', 'Address', 'Street', 'Neighborhood',\n",
    "                   'Point', 'point_geom']\n",
    "cases_filtered = cases_filtered.loc[:, columns_to_keep]\n",
    "cases_filtered = cases_filtered[cases_filtered['Point'] != '(0.0, 0.0)']"
   ]
  },
  {
   "cell_type": "code",
   "execution_count": 24,
   "metadata": {},
   "outputs": [],
   "source": [
    "cases_filtered.to_csv(\"data/encampment_cases_filtered.csv\")"
   ]
  },
  {
   "cell_type": "code",
   "execution_count": 25,
   "metadata": {},
   "outputs": [],
   "source": [
    "regions.drop(columns='link', inplace=True)"
   ]
  },
  {
   "cell_type": "code",
   "execution_count": 32,
   "metadata": {},
   "outputs": [],
   "source": [
    "regions.rename(columns={'name' : 'Neighborhood'}, inplace=True)"
   ]
  },
  {
   "cell_type": "code",
   "execution_count": 54,
   "metadata": {},
   "outputs": [],
   "source": [
    "regions['Neighborhood'].replace({'Fishermans Wharf' : \"Fisherman's Wharf\",\n",
    "                                \"St. Marys Park\" : \"St. Mary's Park\"}, inplace=True)"
   ]
  },
  {
   "cell_type": "code",
   "execution_count": 55,
   "metadata": {},
   "outputs": [],
   "source": [
    "cases_neighbourhoods_merged = pd.merge(cases_filtered, regions, on = 'Neighborhood', how = 'left')"
   ]
  },
  {
   "cell_type": "code",
   "execution_count": 56,
   "metadata": {},
   "outputs": [],
   "source": [
    "cases_neighbourhoods_merged.drop(columns='Unnamed: 0', inplace=True)"
   ]
  },
  {
   "cell_type": "code",
   "execution_count": 60,
   "metadata": {},
   "outputs": [],
   "source": [
    "cases_neighbourhoods_merged.dropna(subset=['Neighborhood'], inplace=True)"
   ]
  },
  {
   "cell_type": "code",
   "execution_count": null,
   "metadata": {},
   "outputs": [],
   "source": [
    "cases_neighbourhoods_merged.isnull().sum()"
   ]
  },
  {
   "cell_type": "code",
   "execution_count": null,
   "metadata": {},
   "outputs": [],
   "source": [
    "cases_neighbourhoods_merged[cases_neighbourhoods_merged['the_geom'].isnull()]"
   ]
  },
  {
   "cell_type": "code",
   "execution_count": 63,
   "metadata": {},
   "outputs": [],
   "source": [
    "cases_neighbourhoods_merged.to_csv(\"data/merged_data.csv\")"
   ]
  }
 ],
 "metadata": {
  "kernelspec": {
   "display_name": "venv",
   "language": "python",
   "name": "python3"
  },
  "language_info": {
   "codemirror_mode": {
    "name": "ipython",
    "version": 3
   },
   "file_extension": ".py",
   "mimetype": "text/x-python",
   "name": "python",
   "nbconvert_exporter": "python",
   "pygments_lexer": "ipython3",
   "version": "3.9.6"
  }
 },
 "nbformat": 4,
 "nbformat_minor": 2
}
