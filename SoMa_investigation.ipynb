{
 "cells": [
  {
   "cell_type": "code",
   "execution_count": null,
   "metadata": {},
   "outputs": [],
   "source": [
    "import pystan\n",
    "import pandas as pd\n",
    "import geopandas as gpd\n",
    "import matplotlib.pyplot as plt\n",
    "from scipy.spatial import distance\n",
    "import numpy as np\n",
    "import arviz as az\n",
    "from classes.mapping import neighborhood_mapping\n",
    "from shapely.geometry import Point, Polygon, LineString\n",
    "from shapely.ops import split\n",
    "from pointpats import PointPattern\n",
    "from pointpats import PoissonPointProcess as csr\n",
    "from pointpats import distance_statistics as ds"
   ]
  },
  {
   "cell_type": "code",
   "execution_count": null,
   "metadata": {},
   "outputs": [],
   "source": [
    "# Loading the data\n",
    "\n",
    "# Shapefiles\n",
    "shapefile_path = 'data/neighborhoods'\n",
    "sf_neighborhoods = gpd.read_file(shapefile_path)\n",
    "\n",
    "# SF case and population data\n",
    "sf_cases = pd.read_csv('data/master_merged.csv', index_col=False)\n",
    "sf_cases.rename(columns={'Neighborhood': 'nhood'}, inplace=True)"
   ]
  },
  {
   "cell_type": "code",
   "execution_count": null,
   "metadata": {},
   "outputs": [],
   "source": [
    "sf_neighborhoods.loc[4]['geometry']"
   ]
  },
  {
   "cell_type": "code",
   "execution_count": null,
   "metadata": {},
   "outputs": [],
   "source": [
    "sf_neighborhoods.to_csv('data/sf_neighborhood_geometry.csv')"
   ]
  },
  {
   "cell_type": "code",
   "execution_count": null,
   "metadata": {},
   "outputs": [],
   "source": [
    "specific_neighborhood = sf_neighborhoods[sf_neighborhoods['nhood'] == 'South of Market']\n",
    "\n",
    "fig, ax = plt.subplots(1, 1, figsize=(10, 10))\n",
    "specific_neighborhood.plot(ax=ax, legend=True, cmap='cividis')\n",
    "plt.xlabel('Longitude')\n",
    "plt.ylabel('Latitude')"
   ]
  },
  {
   "cell_type": "code",
   "execution_count": null,
   "metadata": {},
   "outputs": [],
   "source": [
    "specific_neighborhood.geometry"
   ]
  },
  {
   "cell_type": "code",
   "execution_count": null,
   "metadata": {},
   "outputs": [],
   "source": [
    "cases = pd.read_csv('data/encampment_cases_filtered.csv')\n",
    "cases.dropna(subset=['Neighborhood'], inplace=True)\n",
    "cases.drop(columns='Unnamed: 0', inplace=True)\n",
    "cases['Mapped Neighborhood'] = cases['Neighborhood'].map(neighborhood_mapping)"
   ]
  },
  {
   "cell_type": "code",
   "execution_count": null,
   "metadata": {},
   "outputs": [],
   "source": [
    "som_cases = cases[cases['Mapped Neighborhood'] == 'South of Market']\n",
    "som_cases"
   ]
  },
  {
   "cell_type": "code",
   "execution_count": null,
   "metadata": {},
   "outputs": [],
   "source": [
    "som_cases['geometry'] = som_cases['Point'].apply(lambda x: Point(float(x.split(',')[1][1:-1]), float(x.split(',')[0][1:])))\n",
    "\n",
    "gdf_points = gpd.GeoDataFrame(som_cases, geometry='geometry')\n",
    "\n",
    "ax = specific_neighborhood.plot(cmap='cividis', edgecolor='black')\n",
    "\n",
    "gdf_points.plot(ax=ax, color='orange', markersize=5)\n",
    "\n",
    "plt.show()"
   ]
  },
  {
   "cell_type": "code",
   "execution_count": null,
   "metadata": {},
   "outputs": [],
   "source": [
    "coordinates = [\n",
    "    (-122.398352, 37.779579), (-122.399629, 37.780601), \n",
    "    (-122.401595, 37.779054), (-122.403866, 37.776978), \n",
    "    (-122.404450, 37.776602), (-122.406102, 37.775476), \n",
    "    (-122.406639, 37.774996), (-122.408340, 37.773780), \n",
    "    (-122.407023, 37.772736), (-122.406463, 37.773097), \n",
    "    (-122.405979, 37.773475), (-122.404982, 37.774278), \n",
    "    (-122.403281, 37.775634), (-122.400326, 37.778103)\n",
    "]\n",
    "\n",
    "polygon = Polygon(coordinates)\n",
    "\n",
    "polygon_gdf = gpd.GeoDataFrame({'geometry': [polygon]}, crs=gdf_points.crs)\n"
   ]
  },
  {
   "cell_type": "code",
   "execution_count": null,
   "metadata": {},
   "outputs": [],
   "source": [
    "neighborhood_polygon = specific_neighborhood.unary_union\n",
    "\n",
    "points_within_neighborhood = gdf_points.within(neighborhood_polygon)\n",
    "\n",
    "gdf_points_within = gdf_points[points_within_neighborhood]\n",
    "\n",
    "ax = specific_neighborhood.plot(cmap='cividis', edgecolor='black')\n",
    "gdf_points_within.plot(ax=ax, color='orange', markersize=5)\n",
    "polygon_gdf.boundary.plot(ax=ax, color='red', linewidth=2) \n",
    "\n",
    "plt.xlabel('Longitude')\n",
    "plt.ylabel('Latitude')\n",
    "plt.show()"
   ]
  },
  {
   "cell_type": "code",
   "execution_count": null,
   "metadata": {},
   "outputs": [],
   "source": [
    "gdf_points_within.to_csv('data/som_cases.csv')"
   ]
  },
  {
   "cell_type": "code",
   "execution_count": null,
   "metadata": {},
   "outputs": [],
   "source": [
    "line_coords = [\n",
    "    (-122.398732, 37.787138),\n",
    "    (-122.404450, 37.776602),\n",
    "    (-122.406102, 37.775476),\n",
    "    (-122.406639, 37.774996),\n",
    "    (-122.408340, 37.773780),\n",
    "    (-122.418126, 37.771588),\n",
    "]\n",
    "\n",
    "line = LineString(line_coords)\n",
    "\n",
    "polygon = specific_neighborhood.geometry.unary_union\n",
    "\n",
    "split_polygons = split(polygon, line)\n",
    "\n",
    "upper_polygon = split_polygons.geoms[0]\n",
    "upper_gdf = gpd.GeoDataFrame({'geometry': [upper_polygon]}, crs=specific_neighborhood.crs)"
   ]
  },
  {
   "cell_type": "code",
   "execution_count": null,
   "metadata": {},
   "outputs": [],
   "source": [
    "fig, ax = plt.subplots()\n",
    "specific_neighborhood.plot(ax=ax, color='lightgrey', edgecolor='black') \n",
    "upper_gdf.plot(ax=ax, color='blue', edgecolor='black')  \n",
    "plt.show()"
   ]
  },
  {
   "cell_type": "code",
   "execution_count": null,
   "metadata": {},
   "outputs": [],
   "source": [
    "upper_gdf_polygon = upper_gdf.unary_union\n",
    "\n",
    "points_within_upper_polygon = gdf_points.within(upper_gdf_polygon)\n",
    "\n",
    "gdf_points_within2 = gdf_points[points_within_upper_polygon]\n",
    "\n",
    "ax = upper_gdf.plot(cmap='cividis', edgecolor='black')\n",
    "gdf_points_within2.plot(ax=ax, color='orange', markersize=5)\n",
    "\n",
    "# Hospitality House / city team / self-help center\n",
    "specific_point = gpd.GeoDataFrame({'geometry': [Point(-122.407483, 37.780046)]}, crs=gdf_points.crs)\n",
    "specific_point.plot(ax=ax, color='red', markersize=50) \n",
    "\n",
    "# A Woman's Place / veteran care/ rise\n",
    "specific_point = gpd.GeoDataFrame({'geometry': [Point(-122.408502, 37.778684)]}, crs=gdf_points.crs)\n",
    "specific_point.plot(ax=ax, color='red', markersize=50) \n",
    "\n",
    "# The Sanctuary\n",
    "specific_point = gpd.GeoDataFrame({'geometry': [Point(-122.411548, 37.776242)]}, crs=gdf_points.crs)\n",
    "specific_point.plot(ax=ax, color='red', markersize=50) \n",
    "\n",
    "# Salvation army / Shelter Client Advocates\n",
    "specific_point = gpd.GeoDataFrame({'geometry': [Point(-122.409141, 37.781345)]}, crs=gdf_points.crs)\n",
    "specific_point.plot(ax=ax, color='red', markersize=50) "
   ]
  },
  {
   "cell_type": "code",
   "execution_count": null,
   "metadata": {},
   "outputs": [],
   "source": [
    "shelter_coords = [\n",
    "    (-122.407483, 37.780046),\n",
    "    (-122.408502, 37.778684),\n",
    "    (-122.411548, 37.776242),\n",
    "    (-122.409141, 37.781345)\n",
    "]\n",
    "\n",
    "shelters = gpd.GeoDataFrame({\n",
    "    'shelter_id': range(len(shelter_coords)), \n",
    "    'geometry': [Point(lon, lat) for lon, lat in shelter_coords]\n",
    "}, crs=gdf_points_within2.crs)\n",
    "\n",
    "cases_with_nearest_shelter = gpd.sjoin_nearest(gdf_points_within2, shelters, distance_col=\"distance\")\n",
    "\n",
    "cases_with_nearest_shelter['distance_meters'] = cases_with_nearest_shelter['distance'] * 1000"
   ]
  },
  {
   "cell_type": "code",
   "execution_count": null,
   "metadata": {},
   "outputs": [],
   "source": [
    "cases_with_nearest_shelter['distance_meters'].hist(bins=30)\n",
    "plt.title('Histogram of Distances to Nearest Shelter')\n",
    "plt.xlabel('Distance (meters)')\n",
    "plt.ylabel('Frequency')\n",
    "plt.show()"
   ]
  },
  {
   "cell_type": "code",
   "execution_count": null,
   "metadata": {},
   "outputs": [],
   "source": [
    "upper_gdf.to_file(\"data/study_region.geojson\", driver=\"GeoJSON\")"
   ]
  },
  {
   "cell_type": "code",
   "execution_count": null,
   "metadata": {},
   "outputs": [],
   "source": [
    "cases_with_nearest_shelter.to_file(\"data/cases_with_distances.geojson\", driver=\"GeoJSON\")"
   ]
  },
  {
   "cell_type": "code",
   "execution_count": null,
   "metadata": {},
   "outputs": [],
   "source": [
    "shelters.to_file(\"data/shelters.geojson\", driver=\"GeoJSON\")"
   ]
  }
 ],
 "metadata": {
  "kernelspec": {
   "display_name": "venv",
   "language": "python",
   "name": "python3"
  },
  "language_info": {
   "codemirror_mode": {
    "name": "ipython",
    "version": 3
   },
   "file_extension": ".py",
   "mimetype": "text/x-python",
   "name": "python",
   "nbconvert_exporter": "python",
   "pygments_lexer": "ipython3",
   "version": "3.9.6"
  }
 },
 "nbformat": 4,
 "nbformat_minor": 2
}
